{
  "nbformat": 4,
  "nbformat_minor": 0,
  "metadata": {
    "colab": {
      "provenance": [],
      "gpuType": "T4"
    },
    "kernelspec": {
      "name": "python3",
      "display_name": "Python 3"
    },
    "language_info": {
      "name": "python"
    },
    "accelerator": "GPU",
    "gpuClass": "standard"
  },
  "cells": [
    {
      "cell_type": "markdown",
      "source": [
        "## **MNIST**"
      ],
      "metadata": {
        "id": "2jlDUPVHrc_K"
      }
    },
    {
      "cell_type": "code",
      "execution_count": 1,
      "metadata": {
        "id": "GWWikr2iqYcR"
      },
      "outputs": [],
      "source": [
        "import keras\n",
        "import matplotlib.pyplot as plt"
      ]
    },
    {
      "cell_type": "code",
      "source": [
        "from keras.datasets import mnist\n",
        "from tensorflow.keras.utils import to_categorical\n",
        "\n",
        "def load_dataset():\n",
        " # load dataset\n",
        " (trainX, trainY), (testX, testY) = mnist.load_data()\n",
        "\n",
        " trainX = trainX.reshape((trainX.shape[0], 28, 28, 1))\n",
        " testX = testX.reshape((testX.shape[0], 28, 28, 1))\n",
        "\n",
        " trainY = to_categorical(trainY)\n",
        " testY = to_categorical(testY)\n",
        " return trainX, trainY, testX, testY"
      ],
      "metadata": {
        "id": "9ds4CxWQq_W6"
      },
      "execution_count": 2,
      "outputs": []
    },
    {
      "cell_type": "code",
      "source": [
        "X_train, y_train, X_test, y_test = load_dataset()"
      ],
      "metadata": {
        "id": "w-7OaG4Sunu6"
      },
      "execution_count": 3,
      "outputs": []
    },
    {
      "cell_type": "code",
      "source": [
        "print(X_train.shape)\n",
        "print(X_test.shape)"
      ],
      "metadata": {
        "colab": {
          "base_uri": "https://localhost:8080/"
        },
        "id": "kuXhT0xRrB-E",
        "outputId": "c0411967-698d-4c90-dff8-3c80fd60a1f4"
      },
      "execution_count": 4,
      "outputs": [
        {
          "output_type": "stream",
          "name": "stdout",
          "text": [
            "(60000, 28, 28, 1)\n",
            "(10000, 28, 28, 1)\n"
          ]
        }
      ]
    },
    {
      "cell_type": "code",
      "source": [
        "print(y_train.shape)\n",
        "print(y_test.shape)"
      ],
      "metadata": {
        "colab": {
          "base_uri": "https://localhost:8080/"
        },
        "id": "WMLJvi0TrE3-",
        "outputId": "5d0043df-333b-4288-bc94-45dd6b9a07bc"
      },
      "execution_count": 5,
      "outputs": [
        {
          "output_type": "stream",
          "name": "stdout",
          "text": [
            "(60000, 10)\n",
            "(10000, 10)\n"
          ]
        }
      ]
    },
    {
      "cell_type": "code",
      "source": [
        "y_train"
      ],
      "metadata": {
        "colab": {
          "base_uri": "https://localhost:8080/"
        },
        "id": "DCvJvs_krHc0",
        "outputId": "73515572-e489-4173-96e7-0bfde0b68530"
      },
      "execution_count": 6,
      "outputs": [
        {
          "output_type": "execute_result",
          "data": {
            "text/plain": [
              "array([[0., 0., 0., ..., 0., 0., 0.],\n",
              "       [1., 0., 0., ..., 0., 0., 0.],\n",
              "       [0., 0., 0., ..., 0., 0., 0.],\n",
              "       ...,\n",
              "       [0., 0., 0., ..., 0., 0., 0.],\n",
              "       [0., 0., 0., ..., 0., 0., 0.],\n",
              "       [0., 0., 0., ..., 0., 1., 0.]], dtype=float32)"
            ]
          },
          "metadata": {},
          "execution_count": 6
        }
      ]
    },
    {
      "cell_type": "markdown",
      "source": [
        "### **Network**"
      ],
      "metadata": {
        "id": "cMQyR-KErQC2"
      }
    },
    {
      "cell_type": "code",
      "source": [
        "from keras.models import Sequential\n",
        "from tensorflow.keras.layers import Dense, Conv2D, MaxPooling2D, Flatten\n",
        "from tensorflow.keras.optimizers import Adam"
      ],
      "metadata": {
        "id": "9Fq4rHLOtA-V"
      },
      "execution_count": 7,
      "outputs": []
    },
    {
      "cell_type": "code",
      "source": [
        "def define_model():\n",
        "\tmodel = Sequential()\n",
        "\tmodel.add(Conv2D(32, (3, 3), activation='relu', kernel_initializer='he_uniform', input_shape=(28, 28, 1)))\n",
        "\tmodel.add(MaxPooling2D((2, 2)))\n",
        "\tmodel.add(Flatten())\n",
        "\tmodel.add(Dense(100, activation='relu', kernel_initializer='he_uniform'))\n",
        "\tmodel.add(Dense(10, activation='softmax'))\n",
        " \n",
        "\topt = Adam(learning_rate=0.01)\n",
        "\tmodel.compile(optimizer=opt, loss='categorical_crossentropy', metrics=['accuracy'])\n",
        "\treturn model"
      ],
      "metadata": {
        "id": "qWvFHMIlrMYV"
      },
      "execution_count": 8,
      "outputs": []
    },
    {
      "cell_type": "code",
      "source": [
        "model = define_model()"
      ],
      "metadata": {
        "id": "MOw4hYZDtUOd"
      },
      "execution_count": 9,
      "outputs": []
    },
    {
      "cell_type": "code",
      "source": [
        "model.summary()"
      ],
      "metadata": {
        "colab": {
          "base_uri": "https://localhost:8080/"
        },
        "id": "SiZMIfCAtcvm",
        "outputId": "a7e2b03a-2562-4a13-b5d5-17aa3ccc9cc1"
      },
      "execution_count": 10,
      "outputs": [
        {
          "output_type": "stream",
          "name": "stdout",
          "text": [
            "Model: \"sequential\"\n",
            "_________________________________________________________________\n",
            " Layer (type)                Output Shape              Param #   \n",
            "=================================================================\n",
            " conv2d (Conv2D)             (None, 26, 26, 32)        320       \n",
            "                                                                 \n",
            " max_pooling2d (MaxPooling2D  (None, 13, 13, 32)       0         \n",
            " )                                                               \n",
            "                                                                 \n",
            " flatten (Flatten)           (None, 5408)              0         \n",
            "                                                                 \n",
            " dense (Dense)               (None, 100)               540900    \n",
            "                                                                 \n",
            " dense_1 (Dense)             (None, 10)                1010      \n",
            "                                                                 \n",
            "=================================================================\n",
            "Total params: 542,230\n",
            "Trainable params: 542,230\n",
            "Non-trainable params: 0\n",
            "_________________________________________________________________\n"
          ]
        }
      ]
    },
    {
      "cell_type": "code",
      "source": [
        "type(model)"
      ],
      "metadata": {
        "colab": {
          "base_uri": "https://localhost:8080/"
        },
        "id": "zUsmrp-_vOMS",
        "outputId": "8aaa9aa0-dee4-4b41-e169-a0b47a7a638f"
      },
      "execution_count": 11,
      "outputs": [
        {
          "output_type": "execute_result",
          "data": {
            "text/plain": [
              "keras.engine.sequential.Sequential"
            ]
          },
          "metadata": {},
          "execution_count": 11
        }
      ]
    },
    {
      "cell_type": "code",
      "source": [
        "history = model.fit(X_train, y_train, validation_data=(X_test, y_test), epochs=25, batch_size=256)"
      ],
      "metadata": {
        "colab": {
          "base_uri": "https://localhost:8080/"
        },
        "id": "xVL5bwKztiwT",
        "outputId": "59fc7103-5a84-41d8-af1d-5435fec13571"
      },
      "execution_count": 12,
      "outputs": [
        {
          "output_type": "stream",
          "name": "stdout",
          "text": [
            "Epoch 1/25\n",
            "235/235 [==============================] - 8s 12ms/step - loss: 135.9489 - accuracy: 0.4911 - val_loss: 1.5496 - val_accuracy: 0.5743\n",
            "Epoch 2/25\n",
            "235/235 [==============================] - 2s 10ms/step - loss: 1.2129 - accuracy: 0.6306 - val_loss: 0.9792 - val_accuracy: 0.6998\n",
            "Epoch 3/25\n",
            "235/235 [==============================] - 4s 17ms/step - loss: 0.9074 - accuracy: 0.7370 - val_loss: 0.8048 - val_accuracy: 0.7743\n",
            "Epoch 4/25\n",
            "235/235 [==============================] - 2s 10ms/step - loss: 0.6912 - accuracy: 0.8122 - val_loss: 0.6802 - val_accuracy: 0.8462\n",
            "Epoch 5/25\n",
            "235/235 [==============================] - 2s 8ms/step - loss: 0.5750 - accuracy: 0.8512 - val_loss: 0.5907 - val_accuracy: 0.8854\n",
            "Epoch 6/25\n",
            "235/235 [==============================] - 2s 9ms/step - loss: 0.4926 - accuracy: 0.8773 - val_loss: 0.5318 - val_accuracy: 0.8817\n",
            "Epoch 7/25\n",
            "235/235 [==============================] - 2s 10ms/step - loss: 0.4319 - accuracy: 0.8906 - val_loss: 0.4787 - val_accuracy: 0.8938\n",
            "Epoch 8/25\n",
            "235/235 [==============================] - 2s 10ms/step - loss: 0.3999 - accuracy: 0.8966 - val_loss: 0.5103 - val_accuracy: 0.9119\n",
            "Epoch 9/25\n",
            "235/235 [==============================] - 3s 13ms/step - loss: 0.3955 - accuracy: 0.9037 - val_loss: 0.5488 - val_accuracy: 0.8823\n",
            "Epoch 10/25\n",
            "235/235 [==============================] - 3s 11ms/step - loss: 0.3862 - accuracy: 0.9002 - val_loss: 0.5589 - val_accuracy: 0.9083\n",
            "Epoch 11/25\n",
            "235/235 [==============================] - 2s 7ms/step - loss: 0.3860 - accuracy: 0.9054 - val_loss: 0.5471 - val_accuracy: 0.9084\n",
            "Epoch 12/25\n",
            "235/235 [==============================] - 1s 5ms/step - loss: 0.3687 - accuracy: 0.9080 - val_loss: 0.4505 - val_accuracy: 0.9191\n",
            "Epoch 13/25\n",
            "235/235 [==============================] - 1s 5ms/step - loss: 0.3790 - accuracy: 0.9141 - val_loss: 0.4802 - val_accuracy: 0.9123\n",
            "Epoch 14/25\n",
            "235/235 [==============================] - 1s 5ms/step - loss: 0.4047 - accuracy: 0.9050 - val_loss: 0.5023 - val_accuracy: 0.9256\n",
            "Epoch 15/25\n",
            "235/235 [==============================] - 1s 5ms/step - loss: 0.3551 - accuracy: 0.9200 - val_loss: 0.5619 - val_accuracy: 0.9264\n",
            "Epoch 16/25\n",
            "235/235 [==============================] - 2s 7ms/step - loss: 0.3364 - accuracy: 0.9220 - val_loss: 0.5972 - val_accuracy: 0.8942\n",
            "Epoch 17/25\n",
            "235/235 [==============================] - 2s 6ms/step - loss: 0.3294 - accuracy: 0.9150 - val_loss: 0.4672 - val_accuracy: 0.9061\n",
            "Epoch 18/25\n",
            "235/235 [==============================] - 1s 6ms/step - loss: 0.3331 - accuracy: 0.9157 - val_loss: 0.5126 - val_accuracy: 0.9100\n",
            "Epoch 19/25\n",
            "235/235 [==============================] - 1s 6ms/step - loss: 0.3559 - accuracy: 0.9130 - val_loss: 0.5749 - val_accuracy: 0.9054\n",
            "Epoch 20/25\n",
            "235/235 [==============================] - 1s 6ms/step - loss: 0.3917 - accuracy: 0.9004 - val_loss: 0.6829 - val_accuracy: 0.8481\n",
            "Epoch 21/25\n",
            "235/235 [==============================] - 1s 5ms/step - loss: 0.3967 - accuracy: 0.8866 - val_loss: 0.4717 - val_accuracy: 0.9033\n",
            "Epoch 22/25\n",
            "235/235 [==============================] - 1s 6ms/step - loss: 0.3775 - accuracy: 0.9039 - val_loss: 0.5130 - val_accuracy: 0.8985\n",
            "Epoch 23/25\n",
            "235/235 [==============================] - 1s 5ms/step - loss: 0.3589 - accuracy: 0.9054 - val_loss: 0.4954 - val_accuracy: 0.9137\n",
            "Epoch 24/25\n",
            "235/235 [==============================] - 1s 5ms/step - loss: 0.6111 - accuracy: 0.8232 - val_loss: 0.9225 - val_accuracy: 0.7759\n",
            "Epoch 25/25\n",
            "235/235 [==============================] - 2s 7ms/step - loss: 0.5756 - accuracy: 0.8336 - val_loss: 0.8108 - val_accuracy: 0.8155\n"
          ]
        }
      ]
    },
    {
      "cell_type": "code",
      "source": [
        "model.save('model.h5')"
      ],
      "metadata": {
        "id": "tcYuU5sob25o"
      },
      "execution_count": 13,
      "outputs": []
    },
    {
      "cell_type": "code",
      "source": [
        "score = model.evaluate(X_test, y_test, verbose=0)\n",
        "print('Test loss:', score[0]) \n",
        "print('Test accuracy:', score[1]) "
      ],
      "metadata": {
        "colab": {
          "base_uri": "https://localhost:8080/"
        },
        "id": "V0OnjQBGdeUe",
        "outputId": "0e6fb039-bc2c-47ad-fe01-a55cbae7b1f5"
      },
      "execution_count": 17,
      "outputs": [
        {
          "output_type": "stream",
          "name": "stdout",
          "text": [
            "Test loss: 0.8108406662940979\n",
            "Test accuracy: 0.815500020980835\n"
          ]
        }
      ]
    },
    {
      "cell_type": "code",
      "source": [
        "# plot diagnostic learning curves\n",
        "def show_plot():\n",
        " # plot loss\n",
        " plt.title('Cross Entropy Loss')\n",
        " plt.plot(history.history['loss'], color='blue', label='train')\n",
        " plt.plot(history.history['val_loss'], color='orange', label='test')\n",
        " plt.show()\n",
        " # plot accuracy\n",
        " plt.title('Classification Accuracy')\n",
        " plt.plot(history.history['accuracy'], color='blue', label='train')\n",
        " plt.plot(history.history['val_accuracy'], color='orange', label='test')\n",
        " plt.show()"
      ],
      "metadata": {
        "id": "FQ3LEDWlVxLj"
      },
      "execution_count": 19,
      "outputs": []
    },
    {
      "cell_type": "code",
      "source": [
        "show_plot()"
      ],
      "metadata": {
        "colab": {
          "base_uri": "https://localhost:8080/",
          "height": 887
        },
        "id": "1Hrvux9AcDGL",
        "outputId": "4fb9a981-6b3e-46c2-faac-c72ecec1e356"
      },
      "execution_count": 20,
      "outputs": [
        {
          "output_type": "display_data",
          "data": {
            "text/plain": [
              "<Figure size 640x480 with 1 Axes>"
            ],
            "image/png": "[encoded data removed]"
          },
          "metadata": {}
        },
        {
          "output_type": "display_data",
          "data": {
            "text/plain": [
              "<Figure size 640x480 with 1 Axes>"
            ],
            "image/png": "[encoded data removed]"
          },
          "metadata": {}
        }
      ]
    },
    {
      "cell_type": "code",
      "source": [],
      "metadata": {
        "id": "AvwlVkrycrGz"
      },
      "execution_count": 15,
      "outputs": []
    }
  ]
}